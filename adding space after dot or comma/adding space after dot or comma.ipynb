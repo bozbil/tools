{
 "cells": [
  {
   "cell_type": "code",
   "execution_count": 34,
   "metadata": {},
   "outputs": [
    {
     "name": "stdout",
     "output_type": "stream",
     "text": [
      "['.E', '.E']\n",
      "It is a mistake I frequently make to forget to put spaces after periods and commas,especially in programs that do not control errors like latex.Error1.Error2\n",
      "\n",
      "['.E', '.E']\n",
      "As the size of the file grows,it becomes more and more difficult to find these errors.Error1.Error2\n",
      "\n",
      "['.E', '.E']\n",
      "I wrote a very simple code that uses RE to deal with this..Error1.Error2\n",
      "\n",
      "['.E', '.E']\n",
      "As the size of the file grows,it becomes more and more difficult to find these errors..Error1.Error2\n",
      "\n",
      "['.E', '.E']\n",
      "However, the code only does the discovery (it writes the error and the line with the error on the screen).Error1.Error2\n"
     ]
    }
   ],
   "source": [
    "import re\n",
    "ths = open(\"fixed.tex\", \"w\")\n",
    "with open(\"simple.tex\", \"r\") as file:\n",
    "    while True:\n",
    "        try:\n",
    "            line=file.readline()\n",
    "            if line==\"\":break\n",
    "            if (re.findall(\"\\.[A-Z]\",line))!=[]:   \n",
    "                print(error_list)\n",
    "                print(line)\n",
    "                error_list=re.findall(\"\\.[A-Z]\",line)\n",
    "                \n",
    "                for i in error_list:\n",
    "                    temp=i\n",
    "                    temp=temp.replace(\".\", \". \")\n",
    "                    line=line.replace(i,temp)\n",
    "            ths.write(line)\n",
    "        except:\n",
    "            continue\n",
    "ths.close()"
   ]
  }
 ],
 "metadata": {
  "kernelspec": {
   "display_name": "Python 3",
   "language": "python",
   "name": "python3"
  },
  "language_info": {
   "codemirror_mode": {
    "name": "ipython",
    "version": 3
   },
   "file_extension": ".py",
   "mimetype": "text/x-python",
   "name": "python",
   "nbconvert_exporter": "python",
   "pygments_lexer": "ipython3",
   "version": "3.6.5"
  }
 },
 "nbformat": 4,
 "nbformat_minor": 2
}
